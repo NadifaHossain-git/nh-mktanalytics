{
 "cells": [
  {
   "cell_type": "code",
   "execution_count": null,
   "id": "14f90e3f-49a0-4844-95cb-cf262c0eb1ea",
   "metadata": {},
   "outputs": [
    {
     "ename": "",
     "evalue": "",
     "output_type": "error",
     "traceback": [
      "\u001b[1;31mRunning cells with 'Python 3.12.3' requires the ipykernel package.\n",
      "\u001b[1;31m<a href='command:jupyter.createPythonEnvAndSelectController'>Create a Python Environment</a> with the required packages.\n",
      "\u001b[1;31mOr install 'ipykernel' using the command: '/usr/bin/python3 -m pip install ipykernel -U --user --force-reinstall'"
     ]
    }
   ],
   "source": [
    "import pandas as pd\n",
    "\n",
    "# Read the blueprinty data\n",
    "blueprinty = pd.read_csv(\"blueprinty.csv\")\n",
    "blueprinty.head()\n",
    "\n",
    "\n",
    "_todo: Compare histograms and means of number of patents by customer status. What do you observe?_\n",
    "\n",
    "Blueprinty customers are not selected at random. It may be important to account for systematic differences in the age and regional location of customers vs non-customers.\n",
    "\n",
    "_todo: Compare regions and ages by customer status. What do you observe?_\n",
    "\n",
    "\n",
    "### Estimation of Simple Poisson Model\n",
    "\n",
    "Since our outcome variable of interest can only be small integer values per a set unit of time, we can use a Poisson density to model the number of patents awarded to each engineering firm over the last 5 years. We start by estimating a simple Poisson model via Maximum Likelihood.\n",
    "\n",
    "_todo: Write down mathematically the likelihood for_ $Y \\sim \\text{Poisson}(\\lambda)$. Note that $f(Y|\\lambda) = e^{-\\lambda}\\lambda^Y/Y!$.\n",
    "\n",
    "_todo: Code the likelihood (or log-likelihood) function for the Poisson model. This is a function of lambda and Y. For example:_"
   ]
  },
  {
   "cell_type": "code",
   "execution_count": null,
   "id": "126c1471-b338-479f-8a2f-061c137cb67c",
   "metadata": {},
   "outputs": [
    {
     "ename": "",
     "evalue": "",
     "output_type": "error",
     "traceback": [
      "\u001b[1;31mRunning cells with 'Python 3.12.3' requires the ipykernel package.\n",
      "\u001b[1;31m<a href='command:jupyter.createPythonEnvAndSelectController'>Create a Python Environment</a> with the required packages."
     ]
    }
   ],
   "source": [
    "import pandas as pd\n",
    "\n",
    "# Read the blueprinty data\n",
    "blueprinty = pd.read_csv(\"blueprinty.csv\")\n",
    "blueprinty.head()\n",
    "\n",
    "\n",
    "_todo: Compare histograms and means of number of patents by customer status. What do you observe?_\n",
    "\n",
    "Blueprinty customers are not selected at random. It may be important to account for systematic differences in the age and regional location of customers vs non-customers.\n",
    "\n",
    "_todo: Compare regions and ages by customer status. What do you observe?_\n",
    "\n",
    "\n",
    "### Estimation of Simple Poisson Model\n",
    "\n",
    "Since our outcome variable of interest can only be small integer values per a set unit of time, we can use a Poisson density to model the number of patents awarded to each engineering firm over the last 5 years. We start by estimating a simple Poisson model via Maximum Likelihood.\n",
    "\n",
    "_todo: Write down mathematically the likelihood for_ $Y \\sim \\text{Poisson}(\\lambda)$. Note that $f(Y|\\lambda) = e^{-\\lambda}\\lambda^Y/Y!$.\n",
    "\n",
    "_todo: Code the likelihood (or log-likelihood) function for the Poisson model. This is a function of lambda and Y. For example:_"
   ]
  },
  {
   "cell_type": "markdown",
   "metadata": {},
   "source": [
    "Connected to base (Python 3.12.7)"
   ]
  },
  {
   "cell_type": "code",
   "execution_count": null,
   "id": "a22fda04-7bc5-4fa2-8b58-8f221986ce22",
   "metadata": {},
   "outputs": [
    {
     "ename": "SyntaxError",
     "evalue": "invalid syntax (<ipython-input-1-dacc32040db2>, line 8)",
     "output_type": "error",
     "traceback": [
      "\u001b[0;36m  Cell \u001b[0;32mIn[1], line 8\u001b[0;36m\u001b[0m\n\u001b[0;31m    _todo: Compare histograms and means of number of patents by customer status. What do you observe?_\u001b[0m\n\u001b[0m                   ^\u001b[0m\n\u001b[0;31mSyntaxError\u001b[0m\u001b[0;31m:\u001b[0m invalid syntax\n"
     ]
    }
   ],
   "source": [
    "import pandas as pd\n",
    "\n",
    "# Read the blueprinty data\n",
    "blueprinty = pd.read_csv(\"blueprinty.csv\")\n",
    "blueprinty.head()\n",
    "\n",
    "\n",
    "_todo: Compare histograms and means of number of patents by customer status. What do you observe?_\n",
    "\n",
    "Blueprinty customers are not selected at random. It may be important to account for systematic differences in the age and regional location of customers vs non-customers.\n",
    "\n",
    "_todo: Compare regions and ages by customer status. What do you observe?_\n",
    "\n",
    "\n",
    "### Estimation of Simple Poisson Model\n",
    "\n",
    "Since our outcome variable of interest can only be small integer values per a set unit of time, we can use a Poisson density to model the number of patents awarded to each engineering firm over the last 5 years. We start by estimating a simple Poisson model via Maximum Likelihood.\n",
    "\n",
    "_todo: Write down mathematically the likelihood for_ $Y \\sim \\text{Poisson}(\\lambda)$. Note that $f(Y|\\lambda) = e^{-\\lambda}\\lambda^Y/Y!$.\n",
    "\n",
    "_todo: Code the likelihood (or log-likelihood) function for the Poisson model. This is a function of lambda and Y. For example:_"
   ]
  },
  {
   "cell_type": "code",
   "execution_count": null,
   "id": "af2f1406-4420-498c-a879-9fd2199fffd2",
   "metadata": {
    "vscode": {
     "languageId": "quarto"
    }
   },
   "outputs": [
    {
     "ename": "SyntaxError",
     "evalue": "invalid syntax (<ipython-input-2-dacc32040db2>, line 8)",
     "output_type": "error",
     "traceback": [
      "\u001b[0;36m  Cell \u001b[0;32mIn[2], line 8\u001b[0;36m\u001b[0m\n\u001b[0;31m    _todo: Compare histograms and means of number of patents by customer status. What do you observe?_\u001b[0m\n\u001b[0m                   ^\u001b[0m\n\u001b[0;31mSyntaxError\u001b[0m\u001b[0;31m:\u001b[0m invalid syntax\n"
     ]
    }
   ],
   "source": [
    "import pandas as pd\n",
    "\n",
    "# Read the blueprinty data\n",
    "blueprinty = pd.read_csv(\"blueprinty.csv\")\n",
    "blueprinty.head()\n",
    "\n",
    "\n",
    "_todo: Compare histograms and means of number of patents by customer status. What do you observe?_\n",
    "\n",
    "Blueprinty customers are not selected at random. It may be important to account for systematic differences in the age and regional location of customers vs non-customers.\n",
    "\n",
    "_todo: Compare regions and ages by customer status. What do you observe?_\n",
    "\n",
    "\n",
    "### Estimation of Simple Poisson Model\n",
    "\n",
    "Since our outcome variable of interest can only be small integer values per a set unit of time, we can use a Poisson density to model the number of patents awarded to each engineering firm over the last 5 years. We start by estimating a simple Poisson model via Maximum Likelihood.\n",
    "\n",
    "_todo: Write down mathematically the likelihood for_ $Y \\sim \\text{Poisson}(\\lambda)$. Note that $f(Y|\\lambda) = e^{-\\lambda}\\lambda^Y/Y!$.\n",
    "\n",
    "_todo: Code the likelihood (or log-likelihood) function for the Poisson model. This is a function of lambda and Y. For example:_"
   ]
  },
  {
   "cell_type": "code",
   "execution_count": null,
   "id": "d4f0675d-18cd-4d9e-8c38-351aa3355837",
   "metadata": {
    "vscode": {
     "languageId": "quarto"
    }
   },
   "outputs": [
    {
     "data": {
      "application/vnd.microsoft.datawrangler.viewer.v0+json": {
       "columns": [
        {
         "name": "index",
         "rawType": "int64",
         "type": "integer"
        },
        {
         "name": "patents",
         "rawType": "int64",
         "type": "integer"
        },
        {
         "name": "region",
         "rawType": "object",
         "type": "string"
        },
        {
         "name": "age",
         "rawType": "float64",
         "type": "float"
        },
        {
         "name": "iscustomer",
         "rawType": "int64",
         "type": "integer"
        }
       ],
       "conversionMethod": "pd.DataFrame",
       "ref": "72c82393-a52d-4f3c-86d8-65bf0af29762",
       "rows": [
        [
         "0",
         "0",
         "Midwest",
         "32.5",
         "0"
        ],
        [
         "1",
         "3",
         "Southwest",
         "37.5",
         "0"
        ],
        [
         "2",
         "4",
         "Northwest",
         "27.0",
         "1"
        ],
        [
         "3",
         "3",
         "Northeast",
         "24.5",
         "0"
        ],
        [
         "4",
         "3",
         "Southwest",
         "37.0",
         "0"
        ]
       ],
       "shape": {
        "columns": 4,
        "rows": 5
       }
      },
      "text/html": [
       "<div>\n",
       "<style scoped>\n",
       "    .dataframe tbody tr th:only-of-type {\n",
       "        vertical-align: middle;\n",
       "    }\n",
       "\n",
       "    .dataframe tbody tr th {\n",
       "        vertical-align: top;\n",
       "    }\n",
       "\n",
       "    .dataframe thead th {\n",
       "        text-align: right;\n",
       "    }\n",
       "</style>\n",
       "<table border=\"1\" class=\"dataframe\">\n",
       "  <thead>\n",
       "    <tr style=\"text-align: right;\">\n",
       "      <th></th>\n",
       "      <th>patents</th>\n",
       "      <th>region</th>\n",
       "      <th>age</th>\n",
       "      <th>iscustomer</th>\n",
       "    </tr>\n",
       "  </thead>\n",
       "  <tbody>\n",
       "    <tr>\n",
       "      <th>0</th>\n",
       "      <td>0</td>\n",
       "      <td>Midwest</td>\n",
       "      <td>32.5</td>\n",
       "      <td>0</td>\n",
       "    </tr>\n",
       "    <tr>\n",
       "      <th>1</th>\n",
       "      <td>3</td>\n",
       "      <td>Southwest</td>\n",
       "      <td>37.5</td>\n",
       "      <td>0</td>\n",
       "    </tr>\n",
       "    <tr>\n",
       "      <th>2</th>\n",
       "      <td>4</td>\n",
       "      <td>Northwest</td>\n",
       "      <td>27.0</td>\n",
       "      <td>1</td>\n",
       "    </tr>\n",
       "    <tr>\n",
       "      <th>3</th>\n",
       "      <td>3</td>\n",
       "      <td>Northeast</td>\n",
       "      <td>24.5</td>\n",
       "      <td>0</td>\n",
       "    </tr>\n",
       "    <tr>\n",
       "      <th>4</th>\n",
       "      <td>3</td>\n",
       "      <td>Southwest</td>\n",
       "      <td>37.0</td>\n",
       "      <td>0</td>\n",
       "    </tr>\n",
       "  </tbody>\n",
       "</table>\n",
       "</div>"
      ],
      "text/plain": [
       "   patents     region   age  iscustomer\n",
       "0        0    Midwest  32.5           0\n",
       "1        3  Southwest  37.5           0\n",
       "2        4  Northwest  27.0           1\n",
       "3        3  Northeast  24.5           0\n",
       "4        3  Southwest  37.0           0"
      ]
     },
     "execution_count": 3,
     "metadata": {},
     "output_type": "execute_result"
    }
   ],
   "source": [
    "import pandas as pd\n",
    "\n",
    "# Read the blueprinty data\n",
    "blueprinty = pd.read_csv(\"blueprinty.csv\")\n",
    "blueprinty.head()"
   ]
  },
  {
   "cell_type": "code",
   "execution_count": null,
   "id": "52a7359d-850a-4a3a-bb52-f8b4c05d7531",
   "metadata": {
    "vscode": {
     "languageId": "quarto"
    }
   },
   "outputs": [
    {
     "ename": "KeyError",
     "evalue": "'customer_status'",
     "output_type": "error",
     "traceback": [
      "\u001b[0;31m---------------------------------------------------------------------------\u001b[0m",
      "\u001b[0;31mKeyError\u001b[0m                                  Traceback (most recent call last)",
      "File \u001b[0;32m/opt/conda/lib/python3.12/site-packages/pandas/core/indexes/base.py:3805\u001b[0m, in \u001b[0;36mIndex.get_loc\u001b[0;34m(self, key)\u001b[0m\n\u001b[1;32m   3804\u001b[0m \u001b[39mtry\u001b[39;00m:\n\u001b[0;32m-> 3805\u001b[0m     \u001b[39mreturn\u001b[39;00m \u001b[39mself\u001b[39;49m\u001b[39m.\u001b[39;49m_engine\u001b[39m.\u001b[39;49mget_loc(casted_key)\n\u001b[1;32m   3806\u001b[0m \u001b[39mexcept\u001b[39;00m \u001b[39mKeyError\u001b[39;00m \u001b[39mas\u001b[39;00m err:\n",
      "File \u001b[0;32mindex.pyx:167\u001b[0m, in \u001b[0;36mpandas._libs.index.IndexEngine.get_loc\u001b[0;34m()\u001b[0m\n",
      "File \u001b[0;32mindex.pyx:196\u001b[0m, in \u001b[0;36mpandas._libs.index.IndexEngine.get_loc\u001b[0;34m()\u001b[0m\n",
      "File \u001b[0;32mpandas/_libs/hashtable_class_helper.pxi:7081\u001b[0m, in \u001b[0;36mpandas._libs.hashtable.PyObjectHashTable.get_item\u001b[0;34m()\u001b[0m\n",
      "File \u001b[0;32mpandas/_libs/hashtable_class_helper.pxi:7089\u001b[0m, in \u001b[0;36mpandas._libs.hashtable.PyObjectHashTable.get_item\u001b[0;34m()\u001b[0m\n",
      "\u001b[0;31mKeyError\u001b[0m: 'customer_status'",
      "\nThe above exception was the direct cause of the following exception:\n",
      "\u001b[0;31mKeyError\u001b[0m                                  Traceback (most recent call last)",
      "File \u001b[1;32m/home/jovyan/Desktop/mysite/projects/HW2/hw2_questions.qmd:5\u001b[0m\n\u001b[1;32m      2\u001b[0m \u001b[39mimport\u001b[39;00m \u001b[39mseaborn\u001b[39;00m \u001b[39mas\u001b[39;00m \u001b[39msns\u001b[39;00m\n\u001b[1;32m      4\u001b[0m \u001b[39m# Check unique values for customer_status\u001b[39;00m\n\u001b[0;32m----> 5\u001b[0m \u001b[39mprint\u001b[39m(\u001b[39m\"\u001b[39m\u001b[39mCustomer status values:\u001b[39m\u001b[39m\"\u001b[39m, blueprinty[\u001b[39m'\u001b[39;49m\u001b[39mcustomer_status\u001b[39;49m\u001b[39m'\u001b[39;49m]\u001b[39m.\u001b[39munique())\n\u001b[1;32m      7\u001b[0m \u001b[39m# Set up the figure\u001b[39;00m\n\u001b[1;32m      8\u001b[0m plt\u001b[39m.\u001b[39mfigure(figsize\u001b[39m=\u001b[39m(\u001b[39m10\u001b[39m, \u001b[39m8\u001b[39m))\n",
      "File \u001b[0;32m/opt/conda/lib/python3.12/site-packages/pandas/core/frame.py:4102\u001b[0m, in \u001b[0;36mDataFrame.__getitem__\u001b[0;34m(self, key)\u001b[0m\n\u001b[1;32m   4100\u001b[0m \u001b[39mif\u001b[39;00m \u001b[39mself\u001b[39m\u001b[39m.\u001b[39mcolumns\u001b[39m.\u001b[39mnlevels \u001b[39m>\u001b[39m \u001b[39m1\u001b[39m:\n\u001b[1;32m   4101\u001b[0m     \u001b[39mreturn\u001b[39;00m \u001b[39mself\u001b[39m\u001b[39m.\u001b[39m_getitem_multilevel(key)\n\u001b[0;32m-> 4102\u001b[0m indexer \u001b[39m=\u001b[39m \u001b[39mself\u001b[39;49m\u001b[39m.\u001b[39;49mcolumns\u001b[39m.\u001b[39;49mget_loc(key)\n\u001b[1;32m   4103\u001b[0m \u001b[39mif\u001b[39;00m is_integer(indexer):\n\u001b[1;32m   4104\u001b[0m     indexer \u001b[39m=\u001b[39m [indexer]\n",
      "File \u001b[0;32m/opt/conda/lib/python3.12/site-packages/pandas/core/indexes/base.py:3812\u001b[0m, in \u001b[0;36mIndex.get_loc\u001b[0;34m(self, key)\u001b[0m\n\u001b[1;32m   3807\u001b[0m     \u001b[39mif\u001b[39;00m \u001b[39misinstance\u001b[39m(casted_key, \u001b[39mslice\u001b[39m) \u001b[39mor\u001b[39;00m (\n\u001b[1;32m   3808\u001b[0m         \u001b[39misinstance\u001b[39m(casted_key, abc\u001b[39m.\u001b[39mIterable)\n\u001b[1;32m   3809\u001b[0m         \u001b[39mand\u001b[39;00m \u001b[39many\u001b[39m(\u001b[39misinstance\u001b[39m(x, \u001b[39mslice\u001b[39m) \u001b[39mfor\u001b[39;00m x \u001b[39min\u001b[39;00m casted_key)\n\u001b[1;32m   3810\u001b[0m     ):\n\u001b[1;32m   3811\u001b[0m         \u001b[39mraise\u001b[39;00m InvalidIndexError(key)\n\u001b[0;32m-> 3812\u001b[0m     \u001b[39mraise\u001b[39;00m \u001b[39mKeyError\u001b[39;00m(key) \u001b[39mfrom\u001b[39;00m \u001b[39merr\u001b[39;00m\n\u001b[1;32m   3813\u001b[0m \u001b[39mexcept\u001b[39;00m \u001b[39mTypeError\u001b[39;00m:\n\u001b[1;32m   3814\u001b[0m     \u001b[39m# If we have a listlike key, _check_indexing_error will raise\u001b[39;00m\n\u001b[1;32m   3815\u001b[0m     \u001b[39m#  InvalidIndexError. Otherwise we fall through and re-raise\u001b[39;00m\n\u001b[1;32m   3816\u001b[0m     \u001b[39m#  the TypeError.\u001b[39;00m\n\u001b[1;32m   3817\u001b[0m     \u001b[39mself\u001b[39m\u001b[39m.\u001b[39m_check_indexing_error(key)\n",
      "\u001b[0;31mKeyError\u001b[0m: 'customer_status'"
     ]
    }
   ],
   "source": [
    "import matplotlib.pyplot as plt\n",
    "import seaborn as sns\n",
    "\n",
    "# Check unique values for customer_status\n",
    "print(\"Customer status values:\", blueprinty['customer_status'].unique())\n",
    "\n",
    "# Set up the figure\n",
    "plt.figure(figsize=(10, 8))\n",
    "sns.histplot(data=blueprinty, x=\"number_of_patents\", hue=\"customer_status\", kde=True, multiple=\"stack\")\n",
    "plt.title(\"Distribution of Number of Patents by Customer Status\")\n",
    "plt.xlabel(\"Number of Patents\")\n",
    "plt.ylabel(\"Frequency\")\n",
    "plt.show()\n",
    "\n",
    "# Compare means\n",
    "means = blueprinty.groupby(\"customer_status\")[\"number_of_patents\"].mean()\n",
    "print(\"Mean number of patents by customer status:\")\n",
    "print(means)"
   ]
  },
  {
   "cell_type": "code",
   "execution_count": null,
   "id": "43d77775-a254-44d7-a548-8d62b9732bc1",
   "metadata": {
    "vscode": {
     "languageId": "quarto"
    }
   },
   "outputs": [
    {
     "name": "stdout",
     "output_type": "stream",
     "text": [
      "['patents', 'region', 'age', 'iscustomer']\n"
     ]
    }
   ],
   "source": [
    "print(blueprinty.columns.tolist())"
   ]
  },
  {
   "cell_type": "code",
   "execution_count": null,
   "id": "662a7d16-af6a-47e2-8f1c-f4928e33d677",
   "metadata": {
    "vscode": {
     "languageId": "quarto"
    }
   },
   "outputs": [
    {
     "name": "stdout",
     "output_type": "stream",
     "text": [
      "Customer status values: [0 1]\n"
     ]
    },
    {
     "data": {
      "image/png": "[encoded data removed]",
      "text/plain": [
       "<Figure size 1000x800 with 1 Axes>"
      ]
     },
     "metadata": {},
     "output_type": "display_data"
    },
    {
     "name": "stdout",
     "output_type": "stream",
     "text": [
      "Mean number of patents by customer status:\n",
      "iscustomer\n",
      "0    3.473013\n",
      "1    4.133056\n",
      "Name: patents, dtype: float64\n"
     ]
    }
   ],
   "source": [
    "import matplotlib.pyplot as plt\n",
    "import seaborn as sns\n",
    "\n",
    "# Check unique values for iscustomer\n",
    "print(\"Customer status values:\", blueprinty['iscustomer'].unique())\n",
    "\n",
    "# Plot histogram\n",
    "plt.figure(figsize=(10, 8))\n",
    "sns.histplot(data=blueprinty, x=\"patents\", hue=\"iscustomer\", kde=True, multiple=\"stack\")\n",
    "plt.title(\"Distribution of Patents by Customer Status\")\n",
    "plt.xlabel(\"Number of Patents\")\n",
    "plt.ylabel(\"Frequency\")\n",
    "plt.show()\n",
    "\n",
    "# Compare means\n",
    "means = blueprinty.groupby(\"iscustomer\")[\"patents\"].mean()\n",
    "print(\"Mean number of patents by customer status:\")\n",
    "print(means)"
   ]
  },
  {
   "cell_type": "code",
   "execution_count": null,
   "id": "fe30cc98-9a40-4d4e-9608-4a9a71052ed4",
   "metadata": {
    "vscode": {
     "languageId": "quarto"
    }
   },
   "outputs": [
    {
     "data": {
      "image/png": "[encoded data removed]",
      "text/plain": [
       "<Figure size 1000x800 with 1 Axes>"
      ]
     },
     "metadata": {},
     "output_type": "display_data"
    },
    {
     "data": {
      "image/png": "[encoded data removed]",
      "text/plain": [
       "<Figure size 1000x800 with 1 Axes>"
      ]
     },
     "metadata": {},
     "output_type": "display_data"
    },
    {
     "name": "stdout",
     "output_type": "stream",
     "text": [
      "Mean age by customer status:\n",
      "iscustomer\n",
      "0    26.101570\n",
      "1    26.900208\n",
      "Name: age, dtype: float64\n"
     ]
    }
   ],
   "source": [
    "# Plot region counts by customer status\n",
    "plt.figure(figsize=(10, 8))\n",
    "sns.countplot(data=blueprinty, x=\"region\", hue=\"iscustomer\")\n",
    "plt.title(\"Region Distribution by Customer Status\")\n",
    "plt.xlabel(\"Region\")\n",
    "plt.ylabel(\"Count\")\n",
    "plt.xticks(rotation=45)\n",
    "plt.show()\n",
    "\n",
    "# Plot age distribution by customer status\n",
    "plt.figure(figsize=(10, 8))\n",
    "sns.boxplot(data=blueprinty, x=\"iscustomer\", y=\"age\")\n",
    "plt.title(\"Age Distribution by Customer Status\")\n",
    "plt.xlabel(\"Customer Status\")\n",
    "plt.ylabel(\"Age\")\n",
    "plt.show()\n",
    "\n",
    "# Compute mean ages by status\n",
    "mean_ages = blueprinty.groupby(\"iscustomer\")[\"age\"].mean()\n",
    "print(\"Mean age by customer status:\")\n",
    "print(mean_ages)"
   ]
  },
  {
   "cell_type": "code",
   "execution_count": null,
   "id": "f33e4bce-ca56-4230-a6b7-66b2390d5998",
   "metadata": {
    "vscode": {
     "languageId": "quarto"
    }
   },
   "outputs": [],
   "source": [
    "import numpy as np\n",
    "\n",
    "def poisson_loglikelihood(lmbda, Y):\n",
    "    \"\"\"\n",
    "    Compute the log-likelihood for Poisson-distributed data.\n",
    "\n",
    "    Parameters:\n",
    "    - lmbda: float, Poisson rate parameter λ\n",
    "    - Y: array-like, observed count data\n",
    "\n",
    "    Returns:\n",
    "    - float, log-likelihood value\n",
    "    \"\"\"\n",
    "    Y = np.array(Y)\n",
    "    if lmbda <= 0:\n",
    "        return -np.inf  # log-likelihood undefined for non-positive lambda\n",
    "    log_lik = np.sum(-lmbda + Y * np.log(lmbda) - np.log(np.factorial(Y)))\n",
    "    return log_lik"
   ]
  },
  {
   "cell_type": "code",
   "execution_count": null,
   "id": "26d989e1-e7f6-43ef-9fa7-cc77d57618c4",
   "metadata": {
    "vscode": {
     "languageId": "quarto"
    }
   },
   "outputs": [
    {
     "ename": "AttributeError",
     "evalue": "module 'numpy' has no attribute 'factorial'",
     "output_type": "error",
     "traceback": [
      "\u001b[0;31m---------------------------------------------------------------------------\u001b[0m",
      "\u001b[0;31mAttributeError\u001b[0m                            Traceback (most recent call last)",
      "File \u001b[1;32m/home/jovyan/Desktop/mysite/projects/HW2/hw2_questions.qmd:9\u001b[0m\n\u001b[1;32m      7\u001b[0m \u001b[39m# Define lambda values\u001b[39;00m\n\u001b[1;32m      8\u001b[0m lambda_vals \u001b[39m=\u001b[39m np\u001b[39m.\u001b[39mlinspace(\u001b[39m0.1\u001b[39m, \u001b[39m20\u001b[39m, \u001b[39m200\u001b[39m)\n\u001b[0;32m----> 9\u001b[0m loglik_vals \u001b[39m=\u001b[39m [poisson_loglikelihood(lmbda, Y) \u001b[39mfor\u001b[39;00m lmbda \u001b[39min\u001b[39;00m lambda_vals]\n\u001b[1;32m     11\u001b[0m \u001b[39m# Plot log-likelihood\u001b[39;00m\n\u001b[1;32m     12\u001b[0m plt\u001b[39m.\u001b[39mfigure(figsize\u001b[39m=\u001b[39m(\u001b[39m10\u001b[39m, \u001b[39m8\u001b[39m))\n",
      "Cell \u001b[0;32mIn[8], line 17\u001b[0m, in \u001b[0;36mpoisson_loglikelihood\u001b[0;34m(lmbda, Y)\u001b[0m\n\u001b[1;32m     15\u001b[0m \u001b[39mif\u001b[39;00m lmbda \u001b[39m<\u001b[39m\u001b[39m=\u001b[39m \u001b[39m0\u001b[39m:\n\u001b[1;32m     16\u001b[0m     \u001b[39mreturn\u001b[39;00m \u001b[39m-\u001b[39mnp\u001b[39m.\u001b[39minf  \u001b[39m# log-likelihood undefined for non-positive lambda\u001b[39;00m\n\u001b[0;32m---> 17\u001b[0m log_lik \u001b[39m=\u001b[39m np\u001b[39m.\u001b[39msum(\u001b[39m-\u001b[39mlmbda \u001b[39m+\u001b[39m Y \u001b[39m*\u001b[39m np\u001b[39m.\u001b[39mlog(lmbda) \u001b[39m-\u001b[39m np\u001b[39m.\u001b[39mlog(np\u001b[39m.\u001b[39;49mfactorial(Y)))\n\u001b[1;32m     18\u001b[0m \u001b[39mreturn\u001b[39;00m log_lik\n",
      "File \u001b[0;32m~/.rsm-msba/lib/python3.12/site-packages/numpy/__init__.py:333\u001b[0m, in \u001b[0;36m__getattr__\u001b[0;34m(attr)\u001b[0m\n\u001b[1;32m    330\u001b[0m     \u001b[39m\"\u001b[39m\u001b[39mRemoved in NumPy 1.25.0\u001b[39m\u001b[39m\"\u001b[39m\n\u001b[1;32m    331\u001b[0m     \u001b[39mraise\u001b[39;00m \u001b[39mRuntimeError\u001b[39;00m(\u001b[39m\"\u001b[39m\u001b[39mTester was removed in NumPy 1.25.\u001b[39m\u001b[39m\"\u001b[39m)\n\u001b[0;32m--> 333\u001b[0m \u001b[39mraise\u001b[39;00m \u001b[39mAttributeError\u001b[39;00m(\u001b[39m\"\u001b[39m\u001b[39mmodule \u001b[39m\u001b[39m{!r}\u001b[39;00m\u001b[39m has no attribute \u001b[39m\u001b[39m\"\u001b[39m\n\u001b[1;32m    334\u001b[0m                      \u001b[39m\"\u001b[39m\u001b[39m{!r}\u001b[39;00m\u001b[39m\"\u001b[39m\u001b[39m.\u001b[39mformat(\u001b[39m__name__\u001b[39m, attr))\n",
      "\u001b[0;31mAttributeError\u001b[0m: module 'numpy' has no attribute 'factorial'"
     ]
    }
   ],
   "source": [
    "import matplotlib.pyplot as plt\n",
    "import numpy as np\n",
    "\n",
    "# Use observed patents as Y\n",
    "Y = blueprinty[\"patents\"].values\n",
    "\n",
    "# Define lambda values\n",
    "lambda_vals = np.linspace(0.1, 20, 200)\n",
    "loglik_vals = [poisson_loglikelihood(lmbda, Y) for lmbda in lambda_vals]\n",
    "\n",
    "# Plot log-likelihood\n",
    "plt.figure(figsize=(10, 8))\n",
    "plt.plot(lambda_vals, loglik_vals)\n",
    "plt.title(\"Poisson Log-Likelihood vs Lambda\")\n",
    "plt.xlabel(\"Lambda\")\n",
    "plt.ylabel(\"Log-Likelihood\")\n",
    "plt.grid(True)\n",
    "plt.show()"
   ]
  },
  {
   "cell_type": "code",
   "execution_count": null,
   "id": "2453ea01-f2a3-4f13-be5f-55024c182e0a",
   "metadata": {
    "vscode": {
     "languageId": "quarto"
    }
   },
   "outputs": [],
   "source": [
    "import numpy as np\n",
    "from scipy.special import factorial\n",
    "\n",
    "def poisson_loglikelihood(lmbda, Y):\n",
    "    \"\"\"\n",
    "    Compute the log-likelihood for Poisson-distributed data.\n",
    "\n",
    "    Parameters:\n",
    "    - lmbda: float, Poisson rate parameter λ\n",
    "    - Y: array-like, observed count data\n",
    "\n",
    "    Returns:\n",
    "    - float, log-likelihood value\n",
    "    \"\"\"\n",
    "    Y = np.array(Y)\n",
    "    if lmbda <= 0:\n",
    "        return -np.inf  # log-likelihood undefined for non-positive lambda\n",
    "    log_lik = np.sum(-lmbda + Y * np.log(lmbda) - np.log(factorial(Y)))\n",
    "    return log_lik"
   ]
  },
  {
   "cell_type": "code",
   "execution_count": null,
   "id": "1ad89d3d-8989-49e1-8649-ca33431f3243",
   "metadata": {
    "vscode": {
     "languageId": "quarto"
    }
   },
   "outputs": [],
   "source": [
    "import numpy as np\n",
    "from scipy.special import factorial\n",
    "\n",
    "def poisson_loglikelihood(lmbda, Y):\n",
    "    \"\"\"\n",
    "    Compute the log-likelihood for Poisson-distributed data.\n",
    "\n",
    "    Parameters:\n",
    "    - lmbda: float, Poisson rate parameter λ\n",
    "    - Y: array-like, observed count data\n",
    "\n",
    "    Returns:\n",
    "    - float, log-likelihood value\n",
    "    \"\"\"\n",
    "    Y = np.array(Y)\n",
    "    if lmbda <= 0:\n",
    "        return -np.inf  # log-likelihood undefined for non-positive lambda\n",
    "    log_lik = np.sum(-lmbda + Y * np.log(lmbda) - np.log(factorial(Y)))\n",
    "    return log_lik"
   ]
  },
  {
   "cell_type": "code",
   "execution_count": null,
   "id": "4cbd6fb7-6287-414a-8917-6818e05b7f0f",
   "metadata": {
    "vscode": {
     "languageId": "quarto"
    }
   },
   "outputs": [
    {
     "data": {
      "image/png": "[encoded data removed]",
      "text/plain": [
       "<Figure size 1000x800 with 1 Axes>"
      ]
     },
     "metadata": {},
     "output_type": "display_data"
    }
   ],
   "source": [
    "# Use the patent data\n",
    "Y = blueprinty[\"patents\"].values\n",
    "\n",
    "# Range of lambda values\n",
    "lambda_vals = np.linspace(0.1, 20, 200)\n",
    "loglik_vals = [poisson_loglikelihood(lmbda, Y) for lmbda in lambda_vals]\n",
    "\n",
    "# Plot\n",
    "import matplotlib.pyplot as plt\n",
    "\n",
    "plt.figure(figsize=(10, 8))\n",
    "plt.plot(lambda_vals, loglik_vals)\n",
    "plt.title(\"Poisson Log-Likelihood vs Lambda\")\n",
    "plt.xlabel(\"Lambda\")\n",
    "plt.ylabel(\"Log-Likelihood\")\n",
    "plt.grid(True)\n",
    "plt.show()"
   ]
  },
  {
   "cell_type": "code",
   "execution_count": null,
   "id": "8dd5ae59-34ac-49c3-89df-8cef09f2d712",
   "metadata": {
    "vscode": {
     "languageId": "quarto"
    }
   },
   "outputs": [
    {
     "data": {
      "text/plain": [
       "[Y1/3 + Y2/3 + Y3/3]"
      ]
     },
     "execution_count": 13,
     "metadata": {},
     "output_type": "execute_result"
    }
   ],
   "source": [
    "import sympy as sp\n",
    "\n",
    "# Define symbols\n",
    "lmbda, Y1, Y2, Y3 = sp.symbols(\"lambda Y1 Y2 Y3\", positive=True)\n",
    "\n",
    "# Example: 3 observations (you can generalize this)\n",
    "loglik = (-lmbda + Y1 * sp.log(lmbda)) + \\\n",
    "         (-lmbda + Y2 * sp.log(lmbda)) + \\\n",
    "         (-lmbda + Y3 * sp.log(lmbda))\n",
    "\n",
    "# Simplify\n",
    "loglik = sp.simplify(loglik)\n",
    "\n",
    "# Take derivative with respect to lambda\n",
    "dloglik = sp.diff(loglik, lmbda)\n",
    "\n",
    "# Solve derivative = 0\n",
    "lambda_mle = sp.solve(dloglik, lmbda)\n",
    "lambda_mle"
   ]
  },
  {
   "cell_type": "code",
   "execution_count": null,
   "id": "dd4c3f99-b8fb-4890-bb1a-5777ea072bb3",
   "metadata": {
    "vscode": {
     "languageId": "quarto"
    }
   },
   "outputs": [
    {
     "data": {
      "text/plain": [
       "3.6846666212929713"
      ]
     },
     "execution_count": 14,
     "metadata": {},
     "output_type": "execute_result"
    }
   ],
   "source": [
    "from scipy.optimize import minimize_scalar\n",
    "\n",
    "# Negative log-likelihood\n",
    "def neg_loglikelihood(lmbda):\n",
    "    return -poisson_loglikelihood(lmbda, Y)\n",
    "\n",
    "# Optimize (bounded to avoid λ ≤ 0)\n",
    "result = minimize_scalar(neg_loglikelihood, bounds=(0.1, 20), method='bounded')\n",
    "\n",
    "# Output the estimated lambda\n",
    "lambda_mle = result.x\n",
    "lambda_mle"
   ]
  },
  {
   "cell_type": "code",
   "execution_count": null,
   "id": "7a7b302c-0a8e-4c00-ab39-07d3fd1aa93c",
   "metadata": {
    "vscode": {
     "languageId": "quarto"
    }
   },
   "outputs": [],
   "source": [
    "import numpy as np\n",
    "\n",
    "def poisson_regression_loglikelihood(beta, Y, X):\n",
    "    \"\"\"\n",
    "    Log-likelihood for Poisson regression.\n",
    "\n",
    "    Parameters:\n",
    "    - beta: array-like, coefficients (shape: p,)\n",
    "    - Y: array-like, response variable (counts)\n",
    "    - X: array-like, design matrix (shape: n x p)\n",
    "\n",
    "    Returns:\n",
    "    - float, total log-likelihood\n",
    "    \"\"\"\n",
    "    beta = np.array(beta)\n",
    "    X = np.array(X)\n",
    "    Y = np.array(Y)\n",
    "\n",
    "    # Compute lambda_i = exp(X_i' * beta)\n",
    "    lambda_vals = np.exp(X @ beta)\n",
    "\n",
    "    # Log-likelihood\n",
    "    log_lik = np.sum(-lambda_vals + Y * np.log(lambda_vals) - np.log(factorial(Y)))\n",
    "    return log_lik"
   ]
  },
  {
   "cell_type": "code",
   "execution_count": null,
   "id": "c8efce69-6d1e-43da-aabe-0c27b48509c9",
   "metadata": {
    "vscode": {
     "languageId": "quarto"
    }
   },
   "outputs": [
    {
     "name": "stderr",
     "output_type": "stream",
     "text": [
      "<ipython-input-16-8f3525de8a6e>:27: RuntimeWarning: overflow encountered in exp\n",
      "  lambda_vals = np.exp(X @ beta)\n",
      "<ipython-input-16-8f3525de8a6e>:28: RuntimeWarning: invalid value encountered in multiply\n",
      "  return -np.sum(-lambda_vals + Y * np.log(lambda_vals) - np.log(factorial(Y)))\n",
      "<ipython-input-16-8f3525de8a6e>:28: RuntimeWarning: invalid value encountered in add\n",
      "  return -np.sum(-lambda_vals + Y * np.log(lambda_vals) - np.log(factorial(Y)))\n",
      "/home/jovyan/.rsm-msba/lib/python3.12/site-packages/numpy/core/fromnumeric.py:88: RuntimeWarning: overflow encountered in reduce\n",
      "  return ufunc.reduce(obj, axis, dtype, out, **passkwargs)\n",
      "<ipython-input-16-8f3525de8a6e>:27: RuntimeWarning: overflow encountered in exp\n",
      "  lambda_vals = np.exp(X @ beta)\n",
      "<ipython-input-16-8f3525de8a6e>:28: RuntimeWarning: invalid value encountered in multiply\n",
      "  return -np.sum(-lambda_vals + Y * np.log(lambda_vals) - np.log(factorial(Y)))\n",
      "<ipython-input-16-8f3525de8a6e>:28: RuntimeWarning: invalid value encountered in add\n",
      "  return -np.sum(-lambda_vals + Y * np.log(lambda_vals) - np.log(factorial(Y)))\n",
      "/home/jovyan/.rsm-msba/lib/python3.12/site-packages/numpy/core/fromnumeric.py:88: RuntimeWarning: overflow encountered in reduce\n",
      "  return ufunc.reduce(obj, axis, dtype, out, **passkwargs)\n",
      "<ipython-input-16-8f3525de8a6e>:27: RuntimeWarning: overflow encountered in exp\n",
      "  lambda_vals = np.exp(X @ beta)\n",
      "<ipython-input-16-8f3525de8a6e>:28: RuntimeWarning: invalid value encountered in multiply\n",
      "  return -np.sum(-lambda_vals + Y * np.log(lambda_vals) - np.log(factorial(Y)))\n",
      "<ipython-input-16-8f3525de8a6e>:28: RuntimeWarning: invalid value encountered in add\n",
      "  return -np.sum(-lambda_vals + Y * np.log(lambda_vals) - np.log(factorial(Y)))\n"
     ]
    },
    {
     "data": {
      "application/vnd.microsoft.datawrangler.viewer.v0+json": {
       "columns": [
        {
         "name": "index",
         "rawType": "object",
         "type": "string"
        },
        {
         "name": "Coefficient",
         "rawType": "float64",
         "type": "float"
        },
        {
         "name": "Std. Error",
         "rawType": "float64",
         "type": "float"
        }
       ],
       "conversionMethod": "pd.DataFrame",
       "ref": "3f402541-a869-4c10-a3e5-d052491d325a",
       "rows": [
        [
         "intercept",
         "1.4800589986891999",
         "1.0"
        ],
        [
         "age",
         "38.01641674743824",
         "1.0"
        ],
        [
         "age_squared",
         "1033.5395852018205",
         "1.0"
        ],
        [
         "iscustomer",
         "0.5538735810838401",
         "1.0"
        ],
        [
         "Northeast",
         "0.640979114406249",
         "1.0"
        ],
        [
         "Northwest",
         "0.16428765145618882",
         "1.0"
        ],
        [
         "South",
         "0.18156174456232052",
         "1.0"
        ],
        [
         "Southwest",
         "0.2954972522836148",
         "1.0"
        ]
       ],
       "shape": {
        "columns": 2,
        "rows": 8
       }
      },
      "text/html": [
       "<div>\n",
       "<style scoped>\n",
       "    .dataframe tbody tr th:only-of-type {\n",
       "        vertical-align: middle;\n",
       "    }\n",
       "\n",
       "    .dataframe tbody tr th {\n",
       "        vertical-align: top;\n",
       "    }\n",
       "\n",
       "    .dataframe thead th {\n",
       "        text-align: right;\n",
       "    }\n",
       "</style>\n",
       "<table border=\"1\" class=\"dataframe\">\n",
       "  <thead>\n",
       "    <tr style=\"text-align: right;\">\n",
       "      <th></th>\n",
       "      <th>Coefficient</th>\n",
       "      <th>Std. Error</th>\n",
       "    </tr>\n",
       "  </thead>\n",
       "  <tbody>\n",
       "    <tr>\n",
       "      <th>intercept</th>\n",
       "      <td>1.480059</td>\n",
       "      <td>1.0</td>\n",
       "    </tr>\n",
       "    <tr>\n",
       "      <th>age</th>\n",
       "      <td>38.016417</td>\n",
       "      <td>1.0</td>\n",
       "    </tr>\n",
       "    <tr>\n",
       "      <th>age_squared</th>\n",
       "      <td>1033.539585</td>\n",
       "      <td>1.0</td>\n",
       "    </tr>\n",
       "    <tr>\n",
       "      <th>iscustomer</th>\n",
       "      <td>0.553874</td>\n",
       "      <td>1.0</td>\n",
       "    </tr>\n",
       "    <tr>\n",
       "      <th>Northeast</th>\n",
       "      <td>0.640979</td>\n",
       "      <td>1.0</td>\n",
       "    </tr>\n",
       "    <tr>\n",
       "      <th>Northwest</th>\n",
       "      <td>0.164288</td>\n",
       "      <td>1.0</td>\n",
       "    </tr>\n",
       "    <tr>\n",
       "      <th>South</th>\n",
       "      <td>0.181562</td>\n",
       "      <td>1.0</td>\n",
       "    </tr>\n",
       "    <tr>\n",
       "      <th>Southwest</th>\n",
       "      <td>0.295497</td>\n",
       "      <td>1.0</td>\n",
       "    </tr>\n",
       "  </tbody>\n",
       "</table>\n",
       "</div>"
      ],
      "text/plain": [
       "             Coefficient  Std. Error\n",
       "intercept       1.480059         1.0\n",
       "age            38.016417         1.0\n",
       "age_squared  1033.539585         1.0\n",
       "iscustomer      0.553874         1.0\n",
       "Northeast       0.640979         1.0\n",
       "Northwest       0.164288         1.0\n",
       "South           0.181562         1.0\n",
       "Southwest       0.295497         1.0"
      ]
     },
     "execution_count": 16,
     "metadata": {},
     "output_type": "execute_result"
    }
   ],
   "source": [
    "import numpy as np\n",
    "import pandas as pd\n",
    "from scipy.optimize import minimize\n",
    "from scipy.special import factorial\n",
    "from numpy.linalg import inv\n",
    "\n",
    "# 1. Build design matrix X\n",
    "blueprinty = blueprinty.copy()\n",
    "blueprinty[\"age_squared\"] = blueprinty[\"age\"] ** 2\n",
    "\n",
    "# Get dummies for region (drop one for reference)\n",
    "region_dummies = pd.get_dummies(blueprinty[\"region\"], drop_first=True)\n",
    "\n",
    "# Combine features\n",
    "X = pd.concat([\n",
    "    pd.Series(1, index=blueprinty.index, name=\"intercept\"),\n",
    "    blueprinty[[\"age\", \"age_squared\", \"iscustomer\"]],\n",
    "    region_dummies\n",
    "], axis=1).astype(float)\n",
    "\n",
    "Y = blueprinty[\"patents\"].values\n",
    "X_mat = X.values\n",
    "\n",
    "# 2. Define the negative log-likelihood\n",
    "def neg_poisson_regression_loglikelihood(beta, Y, X):\n",
    "    beta = np.array(beta)\n",
    "    lambda_vals = np.exp(X @ beta)\n",
    "    return -np.sum(-lambda_vals + Y * np.log(lambda_vals) - np.log(factorial(Y)))\n",
    "\n",
    "# 3. Optimize\n",
    "init_beta = np.zeros(X.shape[1])\n",
    "result = minimize(neg_poisson_regression_loglikelihood, init_beta, args=(Y, X_mat), method=\"BFGS\")\n",
    "\n",
    "# Estimated coefficients\n",
    "beta_hat = result.x\n",
    "\n",
    "# 4. Get standard errors from Hessian\n",
    "hessian_inv = result.hess_inv\n",
    "se = np.sqrt(np.diag(hessian_inv))\n",
    "\n",
    "# 5. Create summary table\n",
    "summary_table = pd.DataFrame({\n",
    "    \"Coefficient\": beta_hat,\n",
    "    \"Std. Error\": se\n",
    "}, index=X.columns)\n",
    "\n",
    "summary_table"
   ]
  },
  {
   "cell_type": "code",
   "execution_count": null,
   "id": "cc232574-cbf7-402e-b895-787f1bb29f9b",
   "metadata": {
    "vscode": {
     "languageId": "quarto"
    }
   },
   "outputs": [
    {
     "data": {
      "text/html": [
       "<table class=\"simpletable\">\n",
       "<caption>Generalized Linear Model Regression Results</caption>\n",
       "<tr>\n",
       "  <th>Dep. Variable:</th>           <td>y</td>        <th>  No. Observations:  </th>  <td>  1500</td> \n",
       "</tr>\n",
       "<tr>\n",
       "  <th>Model:</th>                  <td>GLM</td>       <th>  Df Residuals:      </th>  <td>  1492</td> \n",
       "</tr>\n",
       "<tr>\n",
       "  <th>Model Family:</th>         <td>Poisson</td>     <th>  Df Model:          </th>  <td>     7</td> \n",
       "</tr>\n",
       "<tr>\n",
       "  <th>Link Function:</th>          <td>Log</td>       <th>  Scale:             </th> <td>  1.0000</td>\n",
       "</tr>\n",
       "<tr>\n",
       "  <th>Method:</th>                <td>IRLS</td>       <th>  Log-Likelihood:    </th> <td> -3258.1</td>\n",
       "</tr>\n",
       "<tr>\n",
       "  <th>Date:</th>            <td>Tue, 06 May 2025</td> <th>  Deviance:          </th> <td>  2143.3</td>\n",
       "</tr>\n",
       "<tr>\n",
       "  <th>Time:</th>                <td>13:35:11</td>     <th>  Pearson chi2:      </th> <td>2.07e+03</td>\n",
       "</tr>\n",
       "<tr>\n",
       "  <th>No. Iterations:</th>          <td>5</td>        <th>  Pseudo R-squ. (CS):</th>  <td>0.1360</td> \n",
       "</tr>\n",
       "<tr>\n",
       "  <th>Covariance Type:</th>     <td>nonrobust</td>    <th>                     </th>     <td> </td>   \n",
       "</tr>\n",
       "</table>\n",
       "<table class=\"simpletable\">\n",
       "<tr>\n",
       "    <td></td>       <th>coef</th>     <th>std err</th>      <th>z</th>      <th>P>|z|</th>  <th>[0.025</th>    <th>0.975]</th>  \n",
       "</tr>\n",
       "<tr>\n",
       "  <th>const</th> <td>   -0.5089</td> <td>    0.183</td> <td>   -2.778</td> <td> 0.005</td> <td>   -0.868</td> <td>   -0.150</td>\n",
       "</tr>\n",
       "<tr>\n",
       "  <th>x1</th>    <td>    0.1486</td> <td>    0.014</td> <td>   10.716</td> <td> 0.000</td> <td>    0.121</td> <td>    0.176</td>\n",
       "</tr>\n",
       "<tr>\n",
       "  <th>x2</th>    <td>   -0.0030</td> <td>    0.000</td> <td>  -11.513</td> <td> 0.000</td> <td>   -0.003</td> <td>   -0.002</td>\n",
       "</tr>\n",
       "<tr>\n",
       "  <th>x3</th>    <td>    0.2076</td> <td>    0.031</td> <td>    6.719</td> <td> 0.000</td> <td>    0.147</td> <td>    0.268</td>\n",
       "</tr>\n",
       "<tr>\n",
       "  <th>x4</th>    <td>    0.0292</td> <td>    0.044</td> <td>    0.669</td> <td> 0.504</td> <td>   -0.056</td> <td>    0.115</td>\n",
       "</tr>\n",
       "<tr>\n",
       "  <th>x5</th>    <td>   -0.0176</td> <td>    0.054</td> <td>   -0.327</td> <td> 0.744</td> <td>   -0.123</td> <td>    0.088</td>\n",
       "</tr>\n",
       "<tr>\n",
       "  <th>x6</th>    <td>    0.0566</td> <td>    0.053</td> <td>    1.074</td> <td> 0.283</td> <td>   -0.047</td> <td>    0.160</td>\n",
       "</tr>\n",
       "<tr>\n",
       "  <th>x7</th>    <td>    0.0506</td> <td>    0.047</td> <td>    1.072</td> <td> 0.284</td> <td>   -0.042</td> <td>    0.143</td>\n",
       "</tr>\n",
       "</table>"
      ],
      "text/latex": [
       "\\begin{center}\n",
       "\\begin{tabular}{lclc}\n",
       "\\toprule\n",
       "\\textbf{Dep. Variable:}   &        y         & \\textbf{  No. Observations:  } &     1500    \\\\\n",
       "\\textbf{Model:}           &       GLM        & \\textbf{  Df Residuals:      } &     1492    \\\\\n",
       "\\textbf{Model Family:}    &     Poisson      & \\textbf{  Df Model:          } &        7    \\\\\n",
       "\\textbf{Link Function:}   &       Log        & \\textbf{  Scale:             } &    1.0000   \\\\\n",
       "\\textbf{Method:}          &       IRLS       & \\textbf{  Log-Likelihood:    } &   -3258.1   \\\\\n",
       "\\textbf{Date:}            & Tue, 06 May 2025 & \\textbf{  Deviance:          } &    2143.3   \\\\\n",
       "\\textbf{Time:}            &     13:35:11     & \\textbf{  Pearson chi2:      } &  2.07e+03   \\\\\n",
       "\\textbf{No. Iterations:}  &        5         & \\textbf{  Pseudo R-squ. (CS):} &   0.1360    \\\\\n",
       "\\textbf{Covariance Type:} &    nonrobust     & \\textbf{                     } &             \\\\\n",
       "\\bottomrule\n",
       "\\end{tabular}\n",
       "\\begin{tabular}{lcccccc}\n",
       "               & \\textbf{coef} & \\textbf{std err} & \\textbf{z} & \\textbf{P$> |$z$|$} & \\textbf{[0.025} & \\textbf{0.975]}  \\\\\n",
       "\\midrule\n",
       "\\textbf{const} &      -0.5089  &        0.183     &    -2.778  &         0.005        &       -0.868    &       -0.150     \\\\\n",
       "\\textbf{x1}    &       0.1486  &        0.014     &    10.716  &         0.000        &        0.121    &        0.176     \\\\\n",
       "\\textbf{x2}    &      -0.0030  &        0.000     &   -11.513  &         0.000        &       -0.003    &       -0.002     \\\\\n",
       "\\textbf{x3}    &       0.2076  &        0.031     &     6.719  &         0.000        &        0.147    &        0.268     \\\\\n",
       "\\textbf{x4}    &       0.0292  &        0.044     &     0.669  &         0.504        &       -0.056    &        0.115     \\\\\n",
       "\\textbf{x5}    &      -0.0176  &        0.054     &    -0.327  &         0.744        &       -0.123    &        0.088     \\\\\n",
       "\\textbf{x6}    &       0.0566  &        0.053     &     1.074  &         0.283        &       -0.047    &        0.160     \\\\\n",
       "\\textbf{x7}    &       0.0506  &        0.047     &     1.072  &         0.284        &       -0.042    &        0.143     \\\\\n",
       "\\bottomrule\n",
       "\\end{tabular}\n",
       "%\\caption{Generalized Linear Model Regression Results}\n",
       "\\end{center}"
      ],
      "text/plain": [
       "<class 'statsmodels.iolib.summary.Summary'>\n",
       "\"\"\"\n",
       "                 Generalized Linear Model Regression Results                  \n",
       "==============================================================================\n",
       "Dep. Variable:                      y   No. Observations:                 1500\n",
       "Model:                            GLM   Df Residuals:                     1492\n",
       "Model Family:                 Poisson   Df Model:                            7\n",
       "Link Function:                    Log   Scale:                          1.0000\n",
       "Method:                          IRLS   Log-Likelihood:                -3258.1\n",
       "Date:                Tue, 06 May 2025   Deviance:                       2143.3\n",
       "Time:                        13:35:11   Pearson chi2:                 2.07e+03\n",
       "No. Iterations:                     5   Pseudo R-squ. (CS):             0.1360\n",
       "Covariance Type:            nonrobust                                         \n",
       "==============================================================================\n",
       "                 coef    std err          z      P>|z|      [0.025      0.975]\n",
       "------------------------------------------------------------------------------\n",
       "const         -0.5089      0.183     -2.778      0.005      -0.868      -0.150\n",
       "x1             0.1486      0.014     10.716      0.000       0.121       0.176\n",
       "x2            -0.0030      0.000    -11.513      0.000      -0.003      -0.002\n",
       "x3             0.2076      0.031      6.719      0.000       0.147       0.268\n",
       "x4             0.0292      0.044      0.669      0.504      -0.056       0.115\n",
       "x5            -0.0176      0.054     -0.327      0.744      -0.123       0.088\n",
       "x6             0.0566      0.053      1.074      0.283      -0.047       0.160\n",
       "x7             0.0506      0.047      1.072      0.284      -0.042       0.143\n",
       "==============================================================================\n",
       "\"\"\""
      ]
     },
     "execution_count": 17,
     "metadata": {},
     "output_type": "execute_result"
    }
   ],
   "source": [
    "import statsmodels.api as sm\n",
    "\n",
    "# Fit Poisson regression using statsmodels\n",
    "glm_model = sm.GLM(Y, X_mat, family=sm.families.Poisson())\n",
    "glm_results = glm_model.fit()\n",
    "\n",
    "# Print summary\n",
    "glm_results.summary()"
   ]
  },
  {
   "cell_type": "code",
   "execution_count": null,
   "id": "faedb7bf-dfd8-4b0b-9817-b2b4c6936dc2",
   "metadata": {
    "vscode": {
     "languageId": "quarto"
    }
   },
   "outputs": [
    {
     "name": "stderr",
     "output_type": "stream",
     "text": [
      "<ipython-input-18-1a85489e9279>:13: RuntimeWarning: overflow encountered in exp\n",
      "  lambda_0 = np.exp(X_0_mat @ beta_hat)\n",
      "<ipython-input-18-1a85489e9279>:14: RuntimeWarning: overflow encountered in exp\n",
      "  lambda_1 = np.exp(X_1_mat @ beta_hat)\n",
      "<ipython-input-18-1a85489e9279>:17: RuntimeWarning: invalid value encountered in subtract\n",
      "  diffs = lambda_1 - lambda_0\n"
     ]
    },
    {
     "data": {
      "text/plain": [
       "nan"
      ]
     },
     "execution_count": 18,
     "metadata": {},
     "output_type": "execute_result"
    }
   ],
   "source": [
    "# Step 1: Create X_0 (iscustomer = 0) and X_1 (iscustomer = 1)\n",
    "X_0 = X.copy()\n",
    "X_1 = X.copy()\n",
    "X_0[\"iscustomer\"] = 0\n",
    "X_1[\"iscustomer\"] = 1\n",
    "\n",
    "# Step 2: Predict expected patent counts under each scenario\n",
    "# Get design matrices\n",
    "X_0_mat = X_0.values\n",
    "X_1_mat = X_1.values\n",
    "\n",
    "# Use fitted beta_hat from previous optimization or glm\n",
    "lambda_0 = np.exp(X_0_mat @ beta_hat)\n",
    "lambda_1 = np.exp(X_1_mat @ beta_hat)\n",
    "\n",
    "# Step 3: Compute average treatment effect (ATE)\n",
    "diffs = lambda_1 - lambda_0\n",
    "ate = np.mean(diffs)\n",
    "ate"
   ]
  },
  {
   "cell_type": "code",
   "execution_count": null,
   "id": "9b9e4472-9669-4b01-8dbe-b2388ed1ec05",
   "metadata": {
    "vscode": {
     "languageId": "quarto"
    }
   },
   "outputs": [
    {
     "name": "stderr",
     "output_type": "stream",
     "text": [
      "<ipython-input-19-93ab39b1dafe>:10: RuntimeWarning: overflow encountered in exp\n",
      "  lambda_0 = np.exp(X_0_mat @ beta_hat)\n",
      "<ipython-input-19-93ab39b1dafe>:11: RuntimeWarning: overflow encountered in exp\n",
      "  lambda_1 = np.exp(X_1_mat @ beta_hat)\n",
      "<ipython-input-19-93ab39b1dafe>:14: RuntimeWarning: invalid value encountered in subtract\n",
      "  diffs = lambda_1 - lambda_0\n"
     ]
    },
    {
     "data": {
      "text/plain": [
       "nan"
      ]
     },
     "execution_count": 19,
     "metadata": {},
     "output_type": "execute_result"
    }
   ],
   "source": [
    "# Create counterfactual datasets\n",
    "X_0 = X.copy()\n",
    "X_1 = X.copy()\n",
    "X_0[\"iscustomer\"] = 0\n",
    "X_1[\"iscustomer\"] = 1\n",
    "X_0_mat = X_0.values\n",
    "X_1_mat = X_1.values\n",
    "\n",
    "# Predict expected patent counts\n",
    "lambda_0 = np.exp(X_0_mat @ beta_hat)\n",
    "lambda_1 = np.exp(X_1_mat @ beta_hat)\n",
    "\n",
    "# Compute average treatment effect\n",
    "diffs = lambda_1 - lambda_0\n",
    "ate = np.mean(diffs)\n",
    "ate"
   ]
  },
  {
   "cell_type": "code",
   "execution_count": null,
   "id": "df9cd993-876d-4364-8f23-96fcb61ae888",
   "metadata": {
    "vscode": {
     "languageId": "quarto"
    }
   },
   "outputs": [
    {
     "name": "stderr",
     "output_type": "stream",
     "text": [
      "<ipython-input-20-889a30633a58>:19: SettingWithCopyWarning: \n",
      "A value is trying to be set on a copy of a slice from a DataFrame.\n",
      "Try using .loc[row_indexer,col_indexer] = value instead\n",
      "\n",
      "See the caveats in the documentation: https://pandas.pydata.org/pandas-docs/stable/user_guide/indexing.html#returning-a-view-versus-a-copy\n",
      "  airbnb_clean[\"instant_bookable\"] = airbnb_clean[\"instant_bookable\"].map({\"t\": 1, \"f\": 0})\n"
     ]
    }
   ],
   "source": [
    "import pandas as pd\n",
    "\n",
    "# Load Airbnb data\n",
    "airbnb = pd.read_csv(\"airbnb.csv\")\n",
    "\n",
    "# Keep relevant columns\n",
    "columns_to_keep = [\n",
    "    \"room_type\", \"bathrooms\", \"bedrooms\", \"price\", \"number_of_reviews\",\n",
    "    \"review_scores_cleanliness\", \"review_scores_location\",\n",
    "    \"review_scores_value\", \"instant_bookable\"\n",
    "]\n",
    "\n",
    "airbnb = airbnb[columns_to_keep]\n",
    "\n",
    "# Drop rows with missing values in these columns\n",
    "airbnb_clean = airbnb.dropna()\n",
    "\n",
    "# Convert instant_bookable to binary\n",
    "airbnb_clean[\"instant_bookable\"] = airbnb_clean[\"instant_bookable\"].map({\"t\": 1, \"f\": 0})"
   ]
  },
  {
   "cell_type": "code",
   "execution_count": null,
   "id": "49cc168b-c4b4-4138-88be-30d806ac70fb",
   "metadata": {
    "vscode": {
     "languageId": "quarto"
    }
   },
   "outputs": [],
   "source": [
    "import pandas as pd\n",
    "\n",
    "# Load Airbnb data\n",
    "airbnb = pd.read_csv(\"airbnb.csv\")\n",
    "\n",
    "# Keep relevant columns\n",
    "columns_to_keep = [\n",
    "    \"room_type\", \"bathrooms\", \"bedrooms\", \"price\", \"number_of_reviews\",\n",
    "    \"review_scores_cleanliness\", \"review_scores_location\",\n",
    "    \"review_scores_value\", \"instant_bookable\"\n",
    "]\n",
    "\n",
    "airbnb = airbnb[columns_to_keep]\n",
    "\n",
    "# Drop rows with missing values in these columns\n",
    "airbnb_clean = airbnb.dropna()\n",
    "\n",
    "# Convert instant_bookable to binary\n",
    "airbnb_clean.loc[:, \"instant_bookable\"] = airbnb_clean[\"instant_bookable\"].map({\"t\": 1, \"f\": 0})"
   ]
  },
  {
   "cell_type": "code",
   "execution_count": null,
   "id": "3cebfdb0-0650-4439-ba8c-cce25bbdafbe",
   "metadata": {
    "vscode": {
     "languageId": "quarto"
    }
   },
   "outputs": [
    {
     "data": {
      "image/png": "[encoded data removed]",
      "text/plain": [
       "<Figure size 1000x800 with 1 Axes>"
      ]
     },
     "metadata": {},
     "output_type": "display_data"
    },
    {
     "data": {
      "application/vnd.microsoft.datawrangler.viewer.v0+json": {
       "columns": [
        {
         "name": "index",
         "rawType": "object",
         "type": "string"
        },
        {
         "name": "bathrooms",
         "rawType": "float64",
         "type": "float"
        },
        {
         "name": "bedrooms",
         "rawType": "float64",
         "type": "float"
        },
        {
         "name": "price",
         "rawType": "float64",
         "type": "float"
        },
        {
         "name": "number_of_reviews",
         "rawType": "float64",
         "type": "float"
        },
        {
         "name": "review_scores_cleanliness",
         "rawType": "float64",
         "type": "float"
        },
        {
         "name": "review_scores_location",
         "rawType": "float64",
         "type": "float"
        },
        {
         "name": "review_scores_value",
         "rawType": "float64",
         "type": "float"
        }
       ],
       "conversionMethod": "pd.DataFrame",
       "ref": "66aac430-746b-4fa9-a8f2-0bc27ada425a",
       "rows": [
        [
         "count",
         "30160.0",
         "30160.0",
         "30160.0",
         "30160.0",
         "30160.0",
         "30160.0",
         "30160.0"
        ],
        [
         "mean",
         "1.1221319628647215",
         "1.1514588859416446",
         "140.20686339522547",
         "21.170888594164456",
         "9.201724137931034",
         "9.415351458885942",
         "9.33395225464191"
        ],
        [
         "std",
         "0.38491641396190146",
         "0.6990099199339829",
         "188.39231422696747",
         "32.00754103518149",
         "1.1142605867665811",
         "0.8431854160040525",
         "0.9004722409275715"
        ],
        [
         "min",
         "0.0",
         "0.0",
         "10.0",
         "1.0",
         "2.0",
         "2.0",
         "2.0"
        ],
        [
         "25%",
         "1.0",
         "1.0",
         "70.0",
         "3.0",
         "9.0",
         "9.0",
         "9.0"
        ],
        [
         "50%",
         "1.0",
         "1.0",
         "103.0",
         "8.0",
         "10.0",
         "10.0",
         "10.0"
        ],
        [
         "75%",
         "1.0",
         "1.0",
         "169.0",
         "26.0",
         "10.0",
         "10.0",
         "10.0"
        ],
        [
         "max",
         "6.0",
         "10.0",
         "10000.0",
         "421.0",
         "10.0",
         "10.0",
         "10.0"
        ]
       ],
       "shape": {
        "columns": 7,
        "rows": 8
       }
      },
      "text/html": [
       "<div>\n",
       "<style scoped>\n",
       "    .dataframe tbody tr th:only-of-type {\n",
       "        vertical-align: middle;\n",
       "    }\n",
       "\n",
       "    .dataframe tbody tr th {\n",
       "        vertical-align: top;\n",
       "    }\n",
       "\n",
       "    .dataframe thead th {\n",
       "        text-align: right;\n",
       "    }\n",
       "</style>\n",
       "<table border=\"1\" class=\"dataframe\">\n",
       "  <thead>\n",
       "    <tr style=\"text-align: right;\">\n",
       "      <th></th>\n",
       "      <th>bathrooms</th>\n",
       "      <th>bedrooms</th>\n",
       "      <th>price</th>\n",
       "      <th>number_of_reviews</th>\n",
       "      <th>review_scores_cleanliness</th>\n",
       "      <th>review_scores_location</th>\n",
       "      <th>review_scores_value</th>\n",
       "    </tr>\n",
       "  </thead>\n",
       "  <tbody>\n",
       "    <tr>\n",
       "      <th>count</th>\n",
       "      <td>30160.000000</td>\n",
       "      <td>30160.000000</td>\n",
       "      <td>30160.000000</td>\n",
       "      <td>30160.000000</td>\n",
       "      <td>30160.000000</td>\n",
       "      <td>30160.000000</td>\n",
       "      <td>30160.000000</td>\n",
       "    </tr>\n",
       "    <tr>\n",
       "      <th>mean</th>\n",
       "      <td>1.122132</td>\n",
       "      <td>1.151459</td>\n",
       "      <td>140.206863</td>\n",
       "      <td>21.170889</td>\n",
       "      <td>9.201724</td>\n",
       "      <td>9.415351</td>\n",
       "      <td>9.333952</td>\n",
       "    </tr>\n",
       "    <tr>\n",
       "      <th>std</th>\n",
       "      <td>0.384916</td>\n",
       "      <td>0.699010</td>\n",
       "      <td>188.392314</td>\n",
       "      <td>32.007541</td>\n",
       "      <td>1.114261</td>\n",
       "      <td>0.843185</td>\n",
       "      <td>0.900472</td>\n",
       "    </tr>\n",
       "    <tr>\n",
       "      <th>min</th>\n",
       "      <td>0.000000</td>\n",
       "      <td>0.000000</td>\n",
       "      <td>10.000000</td>\n",
       "      <td>1.000000</td>\n",
       "      <td>2.000000</td>\n",
       "      <td>2.000000</td>\n",
       "      <td>2.000000</td>\n",
       "    </tr>\n",
       "    <tr>\n",
       "      <th>25%</th>\n",
       "      <td>1.000000</td>\n",
       "      <td>1.000000</td>\n",
       "      <td>70.000000</td>\n",
       "      <td>3.000000</td>\n",
       "      <td>9.000000</td>\n",
       "      <td>9.000000</td>\n",
       "      <td>9.000000</td>\n",
       "    </tr>\n",
       "    <tr>\n",
       "      <th>50%</th>\n",
       "      <td>1.000000</td>\n",
       "      <td>1.000000</td>\n",
       "      <td>103.000000</td>\n",
       "      <td>8.000000</td>\n",
       "      <td>10.000000</td>\n",
       "      <td>10.000000</td>\n",
       "      <td>10.000000</td>\n",
       "    </tr>\n",
       "    <tr>\n",
       "      <th>75%</th>\n",
       "      <td>1.000000</td>\n",
       "      <td>1.000000</td>\n",
       "      <td>169.000000</td>\n",
       "      <td>26.000000</td>\n",
       "      <td>10.000000</td>\n",
       "      <td>10.000000</td>\n",
       "      <td>10.000000</td>\n",
       "    </tr>\n",
       "    <tr>\n",
       "      <th>max</th>\n",
       "      <td>6.000000</td>\n",
       "      <td>10.000000</td>\n",
       "      <td>10000.000000</td>\n",
       "      <td>421.000000</td>\n",
       "      <td>10.000000</td>\n",
       "      <td>10.000000</td>\n",
       "      <td>10.000000</td>\n",
       "    </tr>\n",
       "  </tbody>\n",
       "</table>\n",
       "</div>"
      ],
      "text/plain": [
       "          bathrooms      bedrooms         price  number_of_reviews  \\\n",
       "count  30160.000000  30160.000000  30160.000000       30160.000000   \n",
       "mean       1.122132      1.151459    140.206863          21.170889   \n",
       "std        0.384916      0.699010    188.392314          32.007541   \n",
       "min        0.000000      0.000000     10.000000           1.000000   \n",
       "25%        1.000000      1.000000     70.000000           3.000000   \n",
       "50%        1.000000      1.000000    103.000000           8.000000   \n",
       "75%        1.000000      1.000000    169.000000          26.000000   \n",
       "max        6.000000     10.000000  10000.000000         421.000000   \n",
       "\n",
       "       review_scores_cleanliness  review_scores_location  review_scores_value  \n",
       "count               30160.000000            30160.000000         30160.000000  \n",
       "mean                    9.201724                9.415351             9.333952  \n",
       "std                     1.114261                0.843185             0.900472  \n",
       "min                     2.000000                2.000000             2.000000  \n",
       "25%                     9.000000                9.000000             9.000000  \n",
       "50%                    10.000000               10.000000            10.000000  \n",
       "75%                    10.000000               10.000000            10.000000  \n",
       "max                    10.000000               10.000000            10.000000  "
      ]
     },
     "execution_count": 22,
     "metadata": {},
     "output_type": "execute_result"
    }
   ],
   "source": [
    "import matplotlib.pyplot as plt\n",
    "import seaborn as sns\n",
    "\n",
    "plt.figure(figsize=(10, 8))\n",
    "sns.histplot(airbnb_clean[\"number_of_reviews\"], bins=50, kde=False)\n",
    "plt.title(\"Distribution of Number of Reviews\")\n",
    "plt.xlabel(\"Number of Reviews\")\n",
    "plt.ylabel(\"Frequency\")\n",
    "plt.show()\n",
    "\n",
    "airbnb_clean.describe()"
   ]
  },
  {
   "cell_type": "code",
   "execution_count": null,
   "id": "30dbf4e2-7b67-4fed-b6b0-76de8ef4b680",
   "metadata": {
    "vscode": {
     "languageId": "quarto"
    }
   },
   "outputs": [
    {
     "ename": "ValueError",
     "evalue": "Pandas data cast to numpy dtype of object. Check input data with np.asarray(data).",
     "output_type": "error",
     "traceback": [
      "\u001b[0;31m---------------------------------------------------------------------------\u001b[0m",
      "\u001b[0;31mValueError\u001b[0m                                Traceback (most recent call last)",
      "File \u001b[1;32m/home/jovyan/Desktop/mysite/projects/HW2/hw2_questions.qmd:19\u001b[0m\n\u001b[1;32m     16\u001b[0m Y \u001b[39m=\u001b[39m airbnb_clean[\u001b[39m\"\u001b[39m\u001b[39mnumber_of_reviews\u001b[39m\u001b[39m\"\u001b[39m]\n\u001b[1;32m     18\u001b[0m \u001b[39m# Fit Poisson model\u001b[39;00m\n\u001b[0;32m---> 19\u001b[0m poisson_model \u001b[39m=\u001b[39m sm\u001b[39m.\u001b[39;49mGLM(Y, X, family\u001b[39m=\u001b[39;49msm\u001b[39m.\u001b[39;49mfamilies\u001b[39m.\u001b[39;49mPoisson())\n\u001b[1;32m     20\u001b[0m poisson_results \u001b[39m=\u001b[39m poisson_model\u001b[39m.\u001b[39mfit()\n\u001b[1;32m     21\u001b[0m poisson_results\u001b[39m.\u001b[39msummary()\n",
      "File \u001b[0;32m/opt/conda/lib/python3.12/site-packages/statsmodels/genmod/generalized_linear_model.py:326\u001b[0m, in \u001b[0;36mGLM.__init__\u001b[0;34m(self, endog, exog, family, offset, exposure, freq_weights, var_weights, missing, **kwargs)\u001b[0m\n\u001b[1;32m    323\u001b[0m \u001b[39mself\u001b[39m\u001b[39m.\u001b[39mfreq_weights \u001b[39m=\u001b[39m freq_weights\n\u001b[1;32m    324\u001b[0m \u001b[39mself\u001b[39m\u001b[39m.\u001b[39mvar_weights \u001b[39m=\u001b[39m var_weights\n\u001b[0;32m--> 326\u001b[0m \u001b[39msuper\u001b[39;49m()\u001b[39m.\u001b[39;49m\u001b[39m__init__\u001b[39;49m(endog, exog, missing\u001b[39m=\u001b[39;49mmissing,\n\u001b[1;32m    327\u001b[0m                           offset\u001b[39m=\u001b[39;49moffset, exposure\u001b[39m=\u001b[39;49mexposure,\n\u001b[1;32m    328\u001b[0m                           freq_weights\u001b[39m=\u001b[39;49mfreq_weights,\n\u001b[1;32m    329\u001b[0m                           var_weights\u001b[39m=\u001b[39;49mvar_weights, \u001b[39m*\u001b[39;49m\u001b[39m*\u001b[39;49mkwargs)\n\u001b[1;32m    330\u001b[0m \u001b[39mself\u001b[39m\u001b[39m.\u001b[39m_check_inputs(family, \u001b[39mself\u001b[39m\u001b[39m.\u001b[39moffset, \u001b[39mself\u001b[39m\u001b[39m.\u001b[39mexposure, \u001b[39mself\u001b[39m\u001b[39m.\u001b[39mendog,\n\u001b[1;32m    331\u001b[0m                    \u001b[39mself\u001b[39m\u001b[39m.\u001b[39mfreq_weights, \u001b[39mself\u001b[39m\u001b[39m.\u001b[39mvar_weights)\n\u001b[1;32m    332\u001b[0m \u001b[39mif\u001b[39;00m offset \u001b[39mis\u001b[39;00m \u001b[39mNone\u001b[39;00m:\n",
      "File \u001b[0;32m/opt/conda/lib/python3.12/site-packages/statsmodels/base/model.py:270\u001b[0m, in \u001b[0;36mLikelihoodModel.__init__\u001b[0;34m(self, endog, exog, **kwargs)\u001b[0m\n\u001b[1;32m    269\u001b[0m \u001b[39mdef\u001b[39;00m \u001b[39m__init__\u001b[39m(\u001b[39mself\u001b[39m, endog, exog\u001b[39m=\u001b[39m\u001b[39mNone\u001b[39;00m, \u001b[39m*\u001b[39m\u001b[39m*\u001b[39mkwargs):\n\u001b[0;32m--> 270\u001b[0m     \u001b[39msuper\u001b[39;49m()\u001b[39m.\u001b[39;49m\u001b[39m__init__\u001b[39;49m(endog, exog, \u001b[39m*\u001b[39;49m\u001b[39m*\u001b[39;49mkwargs)\n\u001b[1;32m    271\u001b[0m     \u001b[39mself\u001b[39m\u001b[39m.\u001b[39minitialize()\n",
      "File \u001b[0;32m/opt/conda/lib/python3.12/site-packages/statsmodels/base/model.py:95\u001b[0m, in \u001b[0;36mModel.__init__\u001b[0;34m(self, endog, exog, **kwargs)\u001b[0m\n\u001b[1;32m     93\u001b[0m missing \u001b[39m=\u001b[39m kwargs\u001b[39m.\u001b[39mpop(\u001b[39m'\u001b[39m\u001b[39mmissing\u001b[39m\u001b[39m'\u001b[39m, \u001b[39m'\u001b[39m\u001b[39mnone\u001b[39m\u001b[39m'\u001b[39m)\n\u001b[1;32m     94\u001b[0m hasconst \u001b[39m=\u001b[39m kwargs\u001b[39m.\u001b[39mpop(\u001b[39m'\u001b[39m\u001b[39mhasconst\u001b[39m\u001b[39m'\u001b[39m, \u001b[39mNone\u001b[39;00m)\n\u001b[0;32m---> 95\u001b[0m \u001b[39mself\u001b[39m\u001b[39m.\u001b[39mdata \u001b[39m=\u001b[39m \u001b[39mself\u001b[39;49m\u001b[39m.\u001b[39;49m_handle_data(endog, exog, missing, hasconst,\n\u001b[1;32m     96\u001b[0m                               \u001b[39m*\u001b[39;49m\u001b[39m*\u001b[39;49mkwargs)\n\u001b[1;32m     97\u001b[0m \u001b[39mself\u001b[39m\u001b[39m.\u001b[39mk_constant \u001b[39m=\u001b[39m \u001b[39mself\u001b[39m\u001b[39m.\u001b[39mdata\u001b[39m.\u001b[39mk_constant\n\u001b[1;32m     98\u001b[0m \u001b[39mself\u001b[39m\u001b[39m.\u001b[39mexog \u001b[39m=\u001b[39m \u001b[39mself\u001b[39m\u001b[39m.\u001b[39mdata\u001b[39m.\u001b[39mexog\n",
      "File \u001b[0;32m/opt/conda/lib/python3.12/site-packages/statsmodels/base/model.py:135\u001b[0m, in \u001b[0;36mModel._handle_data\u001b[0;34m(self, endog, exog, missing, hasconst, **kwargs)\u001b[0m\n\u001b[1;32m    134\u001b[0m \u001b[39mdef\u001b[39;00m \u001b[39m_handle_data\u001b[39m(\u001b[39mself\u001b[39m, endog, exog, missing, hasconst, \u001b[39m*\u001b[39m\u001b[39m*\u001b[39mkwargs):\n\u001b[0;32m--> 135\u001b[0m     data \u001b[39m=\u001b[39m handle_data(endog, exog, missing, hasconst, \u001b[39m*\u001b[39;49m\u001b[39m*\u001b[39;49mkwargs)\n\u001b[1;32m    136\u001b[0m     \u001b[39m# kwargs arrays could have changed, easier to just attach here\u001b[39;00m\n\u001b[1;32m    137\u001b[0m     \u001b[39mfor\u001b[39;00m key \u001b[39min\u001b[39;00m kwargs:\n",
      "File \u001b[0;32m/opt/conda/lib/python3.12/site-packages/statsmodels/base/data.py:675\u001b[0m, in \u001b[0;36mhandle_data\u001b[0;34m(endog, exog, missing, hasconst, **kwargs)\u001b[0m\n\u001b[1;32m    672\u001b[0m     exog \u001b[39m=\u001b[39m np\u001b[39m.\u001b[39masarray(exog)\n\u001b[1;32m    674\u001b[0m klass \u001b[39m=\u001b[39m handle_data_class_factory(endog, exog)\n\u001b[0;32m--> 675\u001b[0m \u001b[39mreturn\u001b[39;00m klass(endog, exog\u001b[39m=\u001b[39;49mexog, missing\u001b[39m=\u001b[39;49mmissing, hasconst\u001b[39m=\u001b[39;49mhasconst,\n\u001b[1;32m    676\u001b[0m              \u001b[39m*\u001b[39;49m\u001b[39m*\u001b[39;49mkwargs)\n",
      "File \u001b[0;32m/opt/conda/lib/python3.12/site-packages/statsmodels/base/data.py:84\u001b[0m, in \u001b[0;36mModelData.__init__\u001b[0;34m(self, endog, exog, missing, hasconst, **kwargs)\u001b[0m\n\u001b[1;32m     82\u001b[0m     \u001b[39mself\u001b[39m\u001b[39m.\u001b[39morig_endog \u001b[39m=\u001b[39m endog\n\u001b[1;32m     83\u001b[0m     \u001b[39mself\u001b[39m\u001b[39m.\u001b[39morig_exog \u001b[39m=\u001b[39m exog\n\u001b[0;32m---> 84\u001b[0m     \u001b[39mself\u001b[39m\u001b[39m.\u001b[39mendog, \u001b[39mself\u001b[39m\u001b[39m.\u001b[39mexog \u001b[39m=\u001b[39m \u001b[39mself\u001b[39;49m\u001b[39m.\u001b[39;49m_convert_endog_exog(endog, exog)\n\u001b[1;32m     86\u001b[0m \u001b[39mself\u001b[39m\u001b[39m.\u001b[39mconst_idx \u001b[39m=\u001b[39m \u001b[39mNone\u001b[39;00m\n\u001b[1;32m     87\u001b[0m \u001b[39mself\u001b[39m\u001b[39m.\u001b[39mk_constant \u001b[39m=\u001b[39m \u001b[39m0\u001b[39m\n",
      "File \u001b[0;32m/opt/conda/lib/python3.12/site-packages/statsmodels/base/data.py:509\u001b[0m, in \u001b[0;36mPandasData._convert_endog_exog\u001b[0;34m(self, endog, exog)\u001b[0m\n\u001b[1;32m    507\u001b[0m exog \u001b[39m=\u001b[39m exog \u001b[39mif\u001b[39;00m exog \u001b[39mis\u001b[39;00m \u001b[39mNone\u001b[39;00m \u001b[39melse\u001b[39;00m np\u001b[39m.\u001b[39masarray(exog)\n\u001b[1;32m    508\u001b[0m \u001b[39mif\u001b[39;00m endog\u001b[39m.\u001b[39mdtype \u001b[39m==\u001b[39m \u001b[39mobject\u001b[39m \u001b[39mor\u001b[39;00m exog \u001b[39mis\u001b[39;00m \u001b[39mnot\u001b[39;00m \u001b[39mNone\u001b[39;00m \u001b[39mand\u001b[39;00m exog\u001b[39m.\u001b[39mdtype \u001b[39m==\u001b[39m \u001b[39mobject\u001b[39m:\n\u001b[0;32m--> 509\u001b[0m     \u001b[39mraise\u001b[39;00m \u001b[39mValueError\u001b[39;00m(\u001b[39m\"\u001b[39m\u001b[39mPandas data cast to numpy dtype of object. \u001b[39m\u001b[39m\"\u001b[39m\n\u001b[1;32m    510\u001b[0m                      \u001b[39m\"\u001b[39m\u001b[39mCheck input data with np.asarray(data).\u001b[39m\u001b[39m\"\u001b[39m)\n\u001b[1;32m    511\u001b[0m \u001b[39mreturn\u001b[39;00m \u001b[39msuper\u001b[39m()\u001b[39m.\u001b[39m_convert_endog_exog(endog, exog)\n",
      "\u001b[0;31mValueError\u001b[0m: Pandas data cast to numpy dtype of object. Check input data with np.asarray(data)."
     ]
    }
   ],
   "source": [
    "import numpy as np\n",
    "import statsmodels.api as sm\n",
    "\n",
    "# Create dummy variables for room type (drop one)\n",
    "room_dummies = pd.get_dummies(airbnb_clean[\"room_type\"], drop_first=True)\n",
    "\n",
    "# Build design matrix\n",
    "X = pd.concat([\n",
    "    pd.Series(1, index=airbnb_clean.index, name=\"intercept\"),\n",
    "    airbnb_clean[[\"bathrooms\", \"bedrooms\", \"price\",\n",
    "                  \"review_scores_cleanliness\", \"review_scores_location\",\n",
    "                  \"review_scores_value\", \"instant_bookable\"]],\n",
    "    room_dummies\n",
    "], axis=1)\n",
    "\n",
    "Y = airbnb_clean[\"number_of_reviews\"]\n",
    "\n",
    "# Fit Poisson model\n",
    "poisson_model = sm.GLM(Y, X, family=sm.families.Poisson())\n",
    "poisson_results = poisson_model.fit()\n",
    "poisson_results.summary()"
   ]
  }
 ],
 "metadata": {
  "kernelspec": {
   "display_name": "base",
   "language": "python",
   "name": "python3"
  },
  "language_info": {
   "name": "python",
   "version": "3.12.7"
  }
 },
 "nbformat": 4,
 "nbformat_minor": 5
}
